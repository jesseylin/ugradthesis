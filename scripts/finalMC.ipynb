{
 "cells": [
  {
   "cell_type": "code",
   "execution_count": 6,
   "metadata": {
    "collapsed": true
   },
   "outputs": [],
   "source": [
    "# usual libraries\n",
    "import numpy as np\n",
    "import matplotlib.pyplot as plt\n",
    "import functools\n",
    "from tqdm import tqdm, trange\n",
    "\n",
    "# Wolff Algorithm for PBC 1D Ising Chain\n",
    "def wolffAlgorithm(chainLattice, K, steps):\n",
    "    size = np.size(chainLattice)\n",
    "\n",
    "    for s in range(steps):\n",
    "        cluster = wolffStep(chainLattice, K)\n",
    "        # flip the cluster\n",
    "        for site in cluster:\n",
    "            chainLattice[site] *= -1\n",
    "\n",
    "def wolffStep(chainLattice, K):\n",
    "    size = np.size(chainLattice)\n",
    "    pAdd = 1 - np.exp(-2*K)\n",
    "    # begin wolff step\n",
    "    idx = np.random.randint(size)\n",
    "\n",
    "    # initialize frontier and cluster\n",
    "    frontier = {idx}\n",
    "    cluster  = {idx}\n",
    "\n",
    "    # expand the cluster\n",
    "    while len(frontier) > 0:\n",
    "\n",
    "        newFrontier = set()\n",
    "\n",
    "        for site in frontier:\n",
    "\n",
    "            # check if sites to left and right are to be added\n",
    "            nNbr = (site + 1) % size\n",
    "            if (chainLattice[site] == chainLattice[nNbr] and\n",
    "                    nNbr not in cluster and\n",
    "                    np.random.rand() < pAdd):\n",
    "\n",
    "                newFrontier.add(nNbr)\n",
    "                cluster.add(nNbr)\n",
    "            pNbr = (site - 1) % size\n",
    "            if (chainLattice[site] == chainLattice[pNbr] and\n",
    "                    pNbr not in cluster and\n",
    "                    np.random.rand() < pAdd):\n",
    "\n",
    "                newFrontier.add(pNbr)\n",
    "                cluster.add(pNbr)\n",
    "\n",
    "        frontier = newFrontier.copy()\n",
    "\n",
    "    return cluster\n",
    "\n",
    "def getSamples(chainLattice, K, sampleSteps, equilTime=1500, autoCorrTime=1500):\n",
    "\n",
    "    size = np.size(chainLattice)\n",
    "    sampleArray = np.zeros((sampleSteps, size))\n",
    "    for s in range(round(equilTime)):\n",
    "        cluster = wolffStep(chainLattice, K)\n",
    "\n",
    "        for site in cluster:\n",
    "            chainLattice[site] *= -1\n",
    "\n",
    "    for s in trange(sampleSteps):\n",
    "\n",
    "        for ss in trange(round(autoCorrTime)):\n",
    "            cluster = wolffStep(chainLattice, K)\n",
    "            for site in cluster:\n",
    "                chainLattice[site] *= -1\n",
    "\n",
    "        sampleArray[s] = chainLattice\n",
    "\n",
    "    return sampleArray\n",
    "\n",
    "def getMeasurements(chainLattice, K, sampleSteps, observable, autoCorrTime=None):\n",
    "    size = np.size(chainLattice)\n",
    "    obsArray = np.zeros(sampleSteps)\n",
    "    if autoCorrTime == None:\n",
    "        autoCorrTime = round(1.5*size)\n",
    "        equilTime = autoCorrTime\n",
    "\n",
    "    for s in range(equilTime):\n",
    "        cluster = wolffStep(chainLattice, K)\n",
    "\n",
    "        for site in cluster:\n",
    "            chainLattice[site] *= -1\n",
    "\n",
    "    for s in range(sampleSteps):\n",
    "\n",
    "        for ss in range(autoCorrTime):\n",
    "            cluster = wolffStep(chainLattice, K)\n",
    "            for site in cluster:\n",
    "                chainLattice[site] *= -1\n",
    "\n",
    "        obsArray[s] = observable(chainLattice, K)\n",
    "\n",
    "    return obsArray\n",
    "# observables\n",
    "def energy(chainLattice, K):\n",
    "    size = np.size(chainLattice)\n",
    "    E = 0\n",
    "\n",
    "    for site in range(size):\n",
    "        alignSgn = chainLattice[site]*chainLattice[(site+1)%size]\n",
    "        E += -2*K*alignSgn\n",
    "\n",
    "    return E\n",
    "\n",
    "def corrAtR(chainLattice, K, r):\n",
    "    size = np.size(chainLattice)\n",
    "    r = r % size\n",
    "\n",
    "    return chainLattice[0]*chainLattice[r]\n",
    "\n",
    "def corrFunc(chainLattice, K):\n",
    "    size = np.size(chainLattice)\n",
    "    maxR = round(size/2)\n",
    "\n",
    "    corrFuncArr = np.zeros(maxR)\n",
    "\n",
    "    for r, _ in enumerate(corrFuncArr):\n",
    "        corrFuncArr[r] = corrAtR(chainLattice, K, r)\n",
    "\n",
    "    return corrFuncArr\n",
    "\n",
    "\n",
    "# In[5]:\n",
    "\n",
    "\n",
    "def getCorrelations(chainLattice, K, sampleSteps, autoCorrTime=None):\n",
    "    size = np.size(chainLattice)\n",
    "    maxR = round(size/2)\n",
    "    corrArray = np.zeros((sampleSteps, maxR))\n",
    "    if autoCorrTime == None:\n",
    "        autoCorrTime = round(1.5*size)\n",
    "        equilTime = autoCorrTime\n",
    "\n",
    "    for s in range(equilTime):\n",
    "        cluster = wolffStep(chainLattice, K)\n",
    "\n",
    "        for site in cluster:\n",
    "            chainLattice[site] *= -1\n",
    "\n",
    "    for s in range(sampleSteps):\n",
    "        for ss in range(autoCorrTime):\n",
    "            cluster = wolffStep(chainLattice, K)\n",
    "\n",
    "            for site in cluster:\n",
    "                chainLattice[site] *= -1\n",
    "\n",
    "        corrArray[s] = corrFunc(chainLattice, K)\n",
    "\n",
    "    dataArray = np.stack(\n",
    "        (np.average(corrArray, axis=0), np.std(corrArray, axis=0)/np.sqrt(sampleSteps))\n",
    "    )\n",
    "    xdata = np.arange(maxR)\n",
    "    return (xdata, dataArray)\n",
    "\n",
    "\n",
    "# In[6]:\n",
    "\n",
    "\n",
    "# some wrappers\n",
    "def timethis(func):\n",
    "    @functools.wraps(func)\n",
    "    def wrapper(*args, **kwargs):\n",
    "        start = time.time()\n",
    "        result = func(*args, **kwargs)\n",
    "        end = time.time()\n",
    "        print(func.__name__, end-start)\n",
    "        return result\n",
    "    return wrapper\n"
   ]
  },
  {
   "cell_type": "code",
   "execution_count": 12,
   "outputs": [],
   "source": [
    "range_K = np.arange(9) + 2"
   ],
   "metadata": {
    "collapsed": false,
    "pycharm": {
     "name": "#%%\n"
    }
   }
  },
  {
   "cell_type": "code",
   "execution_count": 14,
   "outputs": [
    {
     "name": "stdout",
     "output_type": "stream",
     "text": [
      "Doing K= 2\n"
     ]
    },
    {
     "name": "stderr",
     "output_type": "stream",
     "text": [
      "100%|██████████| 1000/1000 [01:20<00:00, 12.39it/s]\n"
     ]
    },
    {
     "name": "stdout",
     "output_type": "stream",
     "text": [
      "Doing K= 3\n"
     ]
    },
    {
     "name": "stderr",
     "output_type": "stream",
     "text": [
      "100%|██████████| 1000/1000 [08:51<00:00,  1.88it/s]\n"
     ]
    },
    {
     "name": "stdout",
     "output_type": "stream",
     "text": [
      "Doing K= 4\n"
     ]
    },
    {
     "name": "stderr",
     "output_type": "stream",
     "text": [
      " 20%|██        | 203/1000 [04:10<16:24,  1.24s/it]\n"
     ]
    },
    {
     "ename": "KeyboardInterrupt",
     "evalue": "",
     "output_type": "error",
     "traceback": [
      "\u001B[0;31m---------------------------------------------------------------------------\u001B[0m",
      "\u001B[0;31mKeyboardInterrupt\u001B[0m                         Traceback (most recent call last)",
      "Input \u001B[0;32mIn [14]\u001B[0m, in \u001B[0;36m<cell line: 1>\u001B[0;34m()\u001B[0m\n\u001B[1;32m      1\u001B[0m \u001B[38;5;28;01mfor\u001B[39;00m K \u001B[38;5;129;01min\u001B[39;00m range_K:\n\u001B[1;32m      2\u001B[0m     \u001B[38;5;28mprint\u001B[39m(\u001B[38;5;124m\"\u001B[39m\u001B[38;5;124mDoing K=\u001B[39m\u001B[38;5;124m\"\u001B[39m, K)\n\u001B[0;32m----> 3\u001B[0m     sampleArray \u001B[38;5;241m=\u001B[39m \u001B[43mgetSamples\u001B[49m\u001B[43m(\u001B[49m\u001B[43mchainLattice\u001B[49m\u001B[43m,\u001B[49m\u001B[43m \u001B[49m\u001B[43mK\u001B[49m\u001B[38;5;241;43m=\u001B[39;49m\u001B[43mK\u001B[49m\u001B[43m,\u001B[49m\u001B[43m \u001B[49m\u001B[43msampleSteps\u001B[49m\u001B[38;5;241;43m=\u001B[39;49m\u001B[38;5;241;43m1000\u001B[39;49m\u001B[43m)\u001B[49m\n\u001B[1;32m      4\u001B[0m     np\u001B[38;5;241m.\u001B[39msavez(\u001B[38;5;124mf\u001B[39m\u001B[38;5;124m\"\u001B[39m\u001B[38;5;124m1dNNMC_K=\u001B[39m\u001B[38;5;132;01m{\u001B[39;00mK\u001B[38;5;132;01m}\u001B[39;00m\u001B[38;5;124m.npz\u001B[39m\u001B[38;5;124m\"\u001B[39m, data\u001B[38;5;241m=\u001B[39msampleArray)\n",
      "Input \u001B[0;32mIn [6]\u001B[0m, in \u001B[0;36mgetSamples\u001B[0;34m(chainLattice, K, sampleSteps, equilTime, autoCorrTime)\u001B[0m\n\u001B[1;32m     64\u001B[0m \u001B[38;5;28;01mfor\u001B[39;00m s \u001B[38;5;129;01min\u001B[39;00m trange(sampleSteps):\n\u001B[1;32m     66\u001B[0m     \u001B[38;5;28;01mfor\u001B[39;00m ss \u001B[38;5;129;01min\u001B[39;00m \u001B[38;5;28mrange\u001B[39m(\u001B[38;5;28mround\u001B[39m(autoCorrTime)):\n\u001B[0;32m---> 67\u001B[0m         cluster \u001B[38;5;241m=\u001B[39m \u001B[43mwolffStep\u001B[49m\u001B[43m(\u001B[49m\u001B[43mchainLattice\u001B[49m\u001B[43m,\u001B[49m\u001B[43m \u001B[49m\u001B[43mK\u001B[49m\u001B[43m)\u001B[49m\n\u001B[1;32m     68\u001B[0m         \u001B[38;5;28;01mfor\u001B[39;00m site \u001B[38;5;129;01min\u001B[39;00m cluster:\n\u001B[1;32m     69\u001B[0m             chainLattice[site] \u001B[38;5;241m*\u001B[39m\u001B[38;5;241m=\u001B[39m \u001B[38;5;241m-\u001B[39m\u001B[38;5;241m1\u001B[39m\n",
      "Input \u001B[0;32mIn [6]\u001B[0m, in \u001B[0;36mwolffStep\u001B[0;34m(chainLattice, K)\u001B[0m\n\u001B[1;32m     32\u001B[0m \u001B[38;5;28;01mfor\u001B[39;00m site \u001B[38;5;129;01min\u001B[39;00m frontier:\n\u001B[1;32m     33\u001B[0m \n\u001B[1;32m     34\u001B[0m     \u001B[38;5;66;03m# check if sites to left and right are to be added\u001B[39;00m\n\u001B[1;32m     35\u001B[0m     nNbr \u001B[38;5;241m=\u001B[39m (site \u001B[38;5;241m+\u001B[39m \u001B[38;5;241m1\u001B[39m) \u001B[38;5;241m%\u001B[39m size\n\u001B[0;32m---> 36\u001B[0m     \u001B[38;5;28;01mif\u001B[39;00m (chainLattice[site] \u001B[38;5;241m==\u001B[39m \u001B[43mchainLattice\u001B[49m\u001B[43m[\u001B[49m\u001B[43mnNbr\u001B[49m\u001B[43m]\u001B[49m \u001B[38;5;129;01mand\u001B[39;00m\n\u001B[1;32m     37\u001B[0m             nNbr \u001B[38;5;129;01mnot\u001B[39;00m \u001B[38;5;129;01min\u001B[39;00m cluster \u001B[38;5;129;01mand\u001B[39;00m\n\u001B[1;32m     38\u001B[0m             np\u001B[38;5;241m.\u001B[39mrandom\u001B[38;5;241m.\u001B[39mrand() \u001B[38;5;241m<\u001B[39m pAdd):\n\u001B[1;32m     40\u001B[0m         newFrontier\u001B[38;5;241m.\u001B[39madd(nNbr)\n\u001B[1;32m     41\u001B[0m         cluster\u001B[38;5;241m.\u001B[39madd(nNbr)\n",
      "\u001B[0;31mKeyboardInterrupt\u001B[0m: "
     ]
    }
   ],
   "source": [
    "for K in range_K:\n",
    "    print(\"Doing K=\", K)\n",
    "    sampleArray = getSamples(chainLattice, K=K, sampleSteps=1000)\n",
    "    np.savez(f\"1dNNMC_K={K}.npz\", data=sampleArray)"
   ],
   "metadata": {
    "collapsed": false,
    "pycharm": {
     "name": "#%%\n"
    }
   }
  },
  {
   "cell_type": "code",
   "execution_count": 15,
   "outputs": [],
   "source": [
    "a = np.load(\"1dNNMC_K=3.npz\")[\"data\"]"
   ],
   "metadata": {
    "collapsed": false,
    "pycharm": {
     "name": "#%%\n"
    }
   }
  },
  {
   "cell_type": "code",
   "execution_count": null,
   "outputs": [],
   "source": [],
   "metadata": {
    "collapsed": false,
    "pycharm": {
     "name": "#%%\n"
    }
   }
  }
 ],
 "metadata": {
  "kernelspec": {
   "display_name": "Python 3",
   "language": "python",
   "name": "python3"
  },
  "language_info": {
   "codemirror_mode": {
    "name": "ipython",
    "version": 2
   },
   "file_extension": ".py",
   "mimetype": "text/x-python",
   "name": "python",
   "nbconvert_exporter": "python",
   "pygments_lexer": "ipython2",
   "version": "2.7.6"
  }
 },
 "nbformat": 4,
 "nbformat_minor": 0
}